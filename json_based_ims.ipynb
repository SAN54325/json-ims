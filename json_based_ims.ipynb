{
  "nbformat": 4,
  "nbformat_minor": 0,
  "metadata": {
    "colab": {
      "name": "json based ims.ipynb",
      "provenance": [],
      "collapsed_sections": []
    },
    "kernelspec": {
      "name": "python3",
      "display_name": "Python 3"
    },
    "language_info": {
      "name": "python"
    }
  },
  "cells": [
    {
      "cell_type": "code",
      "metadata": {
        "id": "6p1ao61tfWxH"
      },
      "source": [
        "import json"
      ],
      "execution_count": 1,
      "outputs": []
    },
    {
      "cell_type": "code",
      "metadata": {
        "id": "oJILzCi1fOAU"
      },
      "source": [
        "record = {1: {\"product\": \"apple juice\", \"exp_date\": \"10/08/2021\", \"type\": \"drinks\", \"cost\": 40, \"Qty\": 150},\n",
        "          2 : {\"product\": \"frooti\", \"exp_date\": \"14/02/2022\", \"type\": \"drinks\", \"cost\": 60, \"Qty\": 600}, \n",
        "          3: {\"product\": \"thumsup\", \"exp_date\": \"22/09/2021\", \"type\": \"drinks\", \"cost\": 80, \"Qty\": 420}, \n",
        "         4 : {\"product\": \"sprite\", \"exp_date\": \"16/09/2022\", \"type\": \"drink\", \"cost\": 56, \"Qty\": 220}, \n",
        "         5 : {\"product\": \"Shirt\", \"exp_date\": \"12/12/2025\", \"type\": \"Wears\", \"cost\": 43, \"Qty\": 620}, \n",
        "         6 : {\"product\": \"Jeans\", \"exp_date\": \"12/04/2026\", \"type\": \"Wears\", \"cost\": 33, \"Qty\": 720}, \n",
        "         7 : {\"product\": \"Denim Jacket\", \"exp_date\": \"02/04/2026\", \"type\": \"Wears\", \"cost\": 33, \"Qty\": 120}, \n",
        "         8 : {\"product\": \"FacePack\", \"exp_date\": \"04/04/2022\", \"type\": \"Cosmetics\", \"cost\": 74, \"Qty\": 542}, \n",
        "         9 : {\"product\": \"FaceWash\", \"exp_date\": \"06/09/2022\", \"type\": \"Cosmetics\", \"cost\": 95, \"Qty\": 325}, \n",
        "         10 : {\"product\": \"Body lotion\", \"exp_date\": \"02/11/2022\", \"type\": \"Cosmetics\", \"cost\": 54, \"Qty\": 323}, \n",
        "         11 : {\"product\": \"lipstick\", \"exp_date\": \"09/12/2021\", \"type\": \"Cosmetics\", \"cost\": 43, \"Qty\": 55}, \n",
        "         12 : {\"product\": \"Face Powder\", \"exp_date\": \"12/09/2021\", \"type\": \"Cosmetics\", \"cost\": 65, \"Qty\": 788}, \n",
        "         13 : {\"product\": \"Cream\", \"exp_date\": \"12/09/2021\", \"type\": \"Cosmetics\", \"cost\": 54, \"Qty\": 98}, \n",
        "         14 : {\"product\": \"Shampoo\", \"exp_date\": \"12/09/2021\", \"type\": \"Cosmetics\", \"cost\": 32, \"Qty\": 677}, \n",
        "         15 : {\"product\": \"Lotion\", \"exp_date\": \"12/09/2021\", \"type\": \"Cosmetics\", \"cost\": 78, \"Qty\": 876}, \n",
        "         16 : {\"product\": \"Kitkat\", \"exp_date\": \"12/04/2022\", \"type\": \"Chocolate\", \"cost\": 70, \"Qty\": 420}, \n",
        "         17 : {\"product\": \"DairyMilk\", \"exp_date\": \"09/10/2022\", \"type\": \"Chocolate\", \"cost\": 30, \"Qty\": 520}, \n",
        "         18 : {\"product\": \"5Star\", \"exp_date\": \"05/09/2022\", \"type\": \"Chocolate\", \"cost\": 20, \"Qty\": 50}, \n",
        "         19 : {\"product\": \"Park\", \"exp_date\": \"07/09/2022\", \"type\": \"Chocolate\", \"cost\": 30, \"Qty\": 550}, \n",
        "         20 : {\"product\": \"Munch\", \"exp_date\": \"08/09/2022\", \"type\": \"Chocolate\", \"cost\": 20, \"Qty\": 370}, \n",
        "         21 : {\"product\": \"Nike\", \"exp_date\": \"07/12/2034\", \"type\": \"Shoes\", \"cost\": 11000, \"Qty\": 35}, \n",
        "         22 : {\"product\": \"Adidas\", \"exp_date\": \"07/12/2034\", \"type\": \"Shoes\", \"cost\": 12000, \"Qty\": 31}, \n",
        "         23 : {\"product\": \"Reebok\", \"exp_date\": \"07/12/2034\", \"type\": \"Shoes\", \"cost\": 16000, \"Qty\": 340}, \n",
        "         24 : {\"product\": \"CR7\", \"exp_date\": \"07/12/2034\", \"type\": \"Shoes\", \"cost\": 31000, \"Qty\": 34}, \n",
        "         25 : {\"product\": \"HRX\", \"exp_date\": \"07/12/2034\", \"type\": \"Shoes\", \"cost\": 14000, \"Qty\": 32}, \n",
        "         26 : {\"product\": \"Asics\", \"exp_date\": \"07/12/2034\", \"type\": \"Shoes\", \"cost\": 41000, \"Qty\": 40}, \n",
        "         27 : {\"product\": \"Pablo\", \"exp_date\": \"07/12/2034\", \"type\": \"Shoes\", \"cost\": 33000, \"Qty\": 140}, \n",
        "         28 : {\"product\": \"Iphone\", \"exp_date\": \"09/11/2040\", \"type\": \"smartphones\", \"cost\": 90000, \"Qty\": 12}, \n",
        "         29 : {\"product\": \"Samsung\", \"exp_date\": \"09/11/2040\", \"type\": \"smartphones\", \"cost\": 65000, \"Qty\": 20}, \n",
        "         30 : {\"product\": \"Vivo\", \"exp_date\": \"09/11/2040\", \"type\": \"smartphones\", \"cost\": 44000, \"Qty\": 300}, \n",
        "         \n",
        "}\n"
      ],
      "execution_count": 8,
      "outputs": []
    },
    {
      "cell_type": "code",
      "metadata": {
        "colab": {
          "base_uri": "https://localhost:8080/"
        },
        "id": "L-h_X3I2fVzz",
        "outputId": "2f7dbb79-e373-4874-8ec2-8d7fb9dbd265"
      },
      "source": [
        "# Here You can Add Data If you Wants To add\n",
        "pro_ID = int(input(\"Enter Product Id: \"))\n",
        "name = str(input(\"Enter name: \"))\n",
        "expiryDate = str(input(\"Enter expiry date: \"))\n",
        "categoryItem = str(input(\"Enter Category: \"))\n",
        "price = int(input(\"Enter Price: \"))\n",
        "Quantity = int(input(\"Enter Quantity: \"))\n",
        "\n",
        "for i in record:\n",
        "    if(i == pro_ID):\n",
        "        if(record[i]['product'] == name):\n",
        "            Quantity = record[i]['qty'] + Quantity\n",
        "\n",
        "record[pro_ID] = {\"product\": name, \"exp_date\": expiryDate, \"type\": categoryItem, \"cost\": price, \"qty\": Quantity}"
      ],
      "execution_count": 14,
      "outputs": [
        {
          "name": "stdout",
          "output_type": "stream",
          "text": [
            "Enter Product Id: 32\n",
            "Enter name: hp\n",
            "Enter expiry date: 12/06/2040\n",
            "Enter Category: laptops\n",
            "Enter Price: 77000\n",
            "Enter Quantity: 100\n"
          ]
        }
      ]
    },
    {
      "cell_type": "code",
      "metadata": {
        "colab": {
          "base_uri": "https://localhost:8080/"
        },
        "id": "0bPv-Lo3gGId",
        "outputId": "f4dbc957-88fe-4a4b-84da-2049153ffd8c"
      },
      "source": [
        "record[32]"
      ],
      "execution_count": 15,
      "outputs": [
        {
          "output_type": "execute_result",
          "data": {
            "text/plain": [
              "{'cost': 77000,\n",
              " 'exp_date': '12/06/2040',\n",
              " 'product': 'hp',\n",
              " 'qty': 100,\n",
              " 'type': 'laptops'}"
            ]
          },
          "metadata": {},
          "execution_count": 15
        }
      ]
    },
    {
      "cell_type": "code",
      "metadata": {
        "colab": {
          "base_uri": "https://localhost:8080/"
        },
        "id": "ZibkUEOMlYyE",
        "outputId": "8b8139b2-41a5-4255-ec6c-349e3a0d4a7f"
      },
      "source": [
        "record"
      ],
      "execution_count": 16,
      "outputs": [
        {
          "output_type": "execute_result",
          "data": {
            "text/plain": [
              "{1: {'Qty': 150,\n",
              "  'cost': 40,\n",
              "  'exp_date': '10/08/2021',\n",
              "  'product': 'apple juice',\n",
              "  'type': 'drinks'},\n",
              " 2: {'Qty': 600,\n",
              "  'cost': 60,\n",
              "  'exp_date': '14/02/2022',\n",
              "  'product': 'frooti',\n",
              "  'type': 'drinks'},\n",
              " 3: {'Qty': 420,\n",
              "  'cost': 80,\n",
              "  'exp_date': '22/09/2021',\n",
              "  'product': 'thumsup',\n",
              "  'type': 'drinks'},\n",
              " 4: {'Qty': 220,\n",
              "  'cost': 56,\n",
              "  'exp_date': '16/09/2022',\n",
              "  'product': 'sprite',\n",
              "  'type': 'drink'},\n",
              " 5: {'Qty': 620,\n",
              "  'cost': 43,\n",
              "  'exp_date': '12/12/2025',\n",
              "  'product': 'Shirt',\n",
              "  'type': 'Wears'},\n",
              " 6: {'Qty': 720,\n",
              "  'cost': 33,\n",
              "  'exp_date': '12/04/2026',\n",
              "  'product': 'Jeans',\n",
              "  'type': 'Wears'},\n",
              " 7: {'Qty': 120,\n",
              "  'cost': 33,\n",
              "  'exp_date': '02/04/2026',\n",
              "  'product': 'Denim Jacket',\n",
              "  'type': 'Wears'},\n",
              " 8: {'Qty': 542,\n",
              "  'cost': 74,\n",
              "  'exp_date': '04/04/2022',\n",
              "  'product': 'FacePack',\n",
              "  'type': 'Cosmetics'},\n",
              " 9: {'Qty': 325,\n",
              "  'cost': 95,\n",
              "  'exp_date': '06/09/2022',\n",
              "  'product': 'FaceWash',\n",
              "  'type': 'Cosmetics'},\n",
              " 10: {'Qty': 323,\n",
              "  'cost': 54,\n",
              "  'exp_date': '02/11/2022',\n",
              "  'product': 'Body lotion',\n",
              "  'type': 'Cosmetics'},\n",
              " 11: {'Qty': 55,\n",
              "  'cost': 43,\n",
              "  'exp_date': '09/12/2021',\n",
              "  'product': 'lipstick',\n",
              "  'type': 'Cosmetics'},\n",
              " 12: {'Qty': 788,\n",
              "  'cost': 65,\n",
              "  'exp_date': '12/09/2021',\n",
              "  'product': 'Face Powder',\n",
              "  'type': 'Cosmetics'},\n",
              " 13: {'Qty': 98,\n",
              "  'cost': 54,\n",
              "  'exp_date': '12/09/2021',\n",
              "  'product': 'Cream',\n",
              "  'type': 'Cosmetics'},\n",
              " 14: {'Qty': 677,\n",
              "  'cost': 32,\n",
              "  'exp_date': '12/09/2021',\n",
              "  'product': 'Shampoo',\n",
              "  'type': 'Cosmetics'},\n",
              " 15: {'Qty': 876,\n",
              "  'cost': 78,\n",
              "  'exp_date': '12/09/2021',\n",
              "  'product': 'Lotion',\n",
              "  'type': 'Cosmetics'},\n",
              " 16: {'Qty': 420,\n",
              "  'cost': 70,\n",
              "  'exp_date': '12/04/2022',\n",
              "  'product': 'Kitkat',\n",
              "  'type': 'Chocolate'},\n",
              " 17: {'Qty': 520,\n",
              "  'cost': 30,\n",
              "  'exp_date': '09/10/2022',\n",
              "  'product': 'DairyMilk',\n",
              "  'type': 'Chocolate'},\n",
              " 18: {'Qty': 50,\n",
              "  'cost': 20,\n",
              "  'exp_date': '05/09/2022',\n",
              "  'product': '5Star',\n",
              "  'type': 'Chocolate'},\n",
              " 19: {'Qty': 550,\n",
              "  'cost': 30,\n",
              "  'exp_date': '07/09/2022',\n",
              "  'product': 'Park',\n",
              "  'type': 'Chocolate'},\n",
              " 20: {'Qty': 370,\n",
              "  'cost': 20,\n",
              "  'exp_date': '08/09/2022',\n",
              "  'product': 'Munch',\n",
              "  'type': 'Chocolate'},\n",
              " 21: {'Qty': 35,\n",
              "  'cost': 11000,\n",
              "  'exp_date': '07/12/2034',\n",
              "  'product': 'Nike',\n",
              "  'type': 'Shoes'},\n",
              " 22: {'Qty': 31,\n",
              "  'cost': 12000,\n",
              "  'exp_date': '07/12/2034',\n",
              "  'product': 'Adidas',\n",
              "  'type': 'Shoes'},\n",
              " 23: {'Qty': 340,\n",
              "  'cost': 16000,\n",
              "  'exp_date': '07/12/2034',\n",
              "  'product': 'Reebok',\n",
              "  'type': 'Shoes'},\n",
              " 24: {'Qty': 34,\n",
              "  'cost': 31000,\n",
              "  'exp_date': '07/12/2034',\n",
              "  'product': 'CR7',\n",
              "  'type': 'Shoes'},\n",
              " 25: {'Qty': 32,\n",
              "  'cost': 14000,\n",
              "  'exp_date': '07/12/2034',\n",
              "  'product': 'HRX',\n",
              "  'type': 'Shoes'},\n",
              " 26: {'Qty': 40,\n",
              "  'cost': 41000,\n",
              "  'exp_date': '07/12/2034',\n",
              "  'product': 'Asics',\n",
              "  'type': 'Shoes'},\n",
              " 27: {'Qty': 140,\n",
              "  'cost': 33000,\n",
              "  'exp_date': '07/12/2034',\n",
              "  'product': 'Pablo',\n",
              "  'type': 'Shoes'},\n",
              " 28: {'Qty': 12,\n",
              "  'cost': 90000,\n",
              "  'exp_date': '09/11/2040',\n",
              "  'product': 'Iphone',\n",
              "  'type': 'smartphones'},\n",
              " 29: {'Qty': 20,\n",
              "  'cost': 65000,\n",
              "  'exp_date': '09/11/2040',\n",
              "  'product': 'Samsung',\n",
              "  'type': 'smartphones'},\n",
              " 30: {'Qty': 300,\n",
              "  'cost': 44000,\n",
              "  'exp_date': '09/11/2040',\n",
              "  'product': 'Vivo',\n",
              "  'type': 'smartphones'},\n",
              " 31: {'cost': 32000,\n",
              "  'exp_date': '09/12/2040',\n",
              "  'product': 'frealme',\n",
              "  'qty': 230,\n",
              "  'type': 'smartphones'},\n",
              " 32: {'cost': 77000,\n",
              "  'exp_date': '12/06/2040',\n",
              "  'product': 'hp',\n",
              "  'qty': 100,\n",
              "  'type': 'laptops'}}"
            ]
          },
          "metadata": {},
          "execution_count": 16
        }
      ]
    },
    {
      "cell_type": "code",
      "metadata": {
        "id": "0uY0qc9Yld4g"
      },
      "source": [
        "j_s = json.dumps(record)"
      ],
      "execution_count": 21,
      "outputs": []
    },
    {
      "cell_type": "code",
      "metadata": {
        "colab": {
          "base_uri": "https://localhost:8080/",
          "height": 221
        },
        "id": "4yeMx-xLmLUH",
        "outputId": "dbac8f94-85b2-42ee-e8cb-ff61d8bf03a6"
      },
      "source": [
        "j_s"
      ],
      "execution_count": 23,
      "outputs": [
        {
          "output_type": "execute_result",
          "data": {
            "application/vnd.google.colaboratory.intrinsic+json": {
              "type": "string"
            },
            "text/plain": [
              "'{\"1\": {\"product\": \"apple juice\", \"exp_date\": \"10/08/2021\", \"type\": \"drinks\", \"cost\": 40, \"Qty\": 150}, \"2\": {\"product\": \"frooti\", \"exp_date\": \"14/02/2022\", \"type\": \"drinks\", \"cost\": 60, \"Qty\": 600}, \"3\": {\"product\": \"thumsup\", \"exp_date\": \"22/09/2021\", \"type\": \"drinks\", \"cost\": 80, \"Qty\": 420}, \"4\": {\"product\": \"sprite\", \"exp_date\": \"16/09/2022\", \"type\": \"drink\", \"cost\": 56, \"Qty\": 220}, \"5\": {\"product\": \"Shirt\", \"exp_date\": \"12/12/2025\", \"type\": \"Wears\", \"cost\": 43, \"Qty\": 620}, \"6\": {\"product\": \"Jeans\", \"exp_date\": \"12/04/2026\", \"type\": \"Wears\", \"cost\": 33, \"Qty\": 720}, \"7\": {\"product\": \"Denim Jacket\", \"exp_date\": \"02/04/2026\", \"type\": \"Wears\", \"cost\": 33, \"Qty\": 120}, \"8\": {\"product\": \"FacePack\", \"exp_date\": \"04/04/2022\", \"type\": \"Cosmetics\", \"cost\": 74, \"Qty\": 542}, \"9\": {\"product\": \"FaceWash\", \"exp_date\": \"06/09/2022\", \"type\": \"Cosmetics\", \"cost\": 95, \"Qty\": 325}, \"10\": {\"product\": \"Body lotion\", \"exp_date\": \"02/11/2022\", \"type\": \"Cosmetics\", \"cost\": 54, \"Qty\": 323}, \"11\": {\"product\": \"lipstick\", \"exp_date\": \"09/12/2021\", \"type\": \"Cosmetics\", \"cost\": 43, \"Qty\": 55}, \"12\": {\"product\": \"Face Powder\", \"exp_date\": \"12/09/2021\", \"type\": \"Cosmetics\", \"cost\": 65, \"Qty\": 788}, \"13\": {\"product\": \"Cream\", \"exp_date\": \"12/09/2021\", \"type\": \"Cosmetics\", \"cost\": 54, \"Qty\": 98}, \"14\": {\"product\": \"Shampoo\", \"exp_date\": \"12/09/2021\", \"type\": \"Cosmetics\", \"cost\": 32, \"Qty\": 677}, \"15\": {\"product\": \"Lotion\", \"exp_date\": \"12/09/2021\", \"type\": \"Cosmetics\", \"cost\": 78, \"Qty\": 876}, \"16\": {\"product\": \"Kitkat\", \"exp_date\": \"12/04/2022\", \"type\": \"Chocolate\", \"cost\": 70, \"Qty\": 420}, \"17\": {\"product\": \"DairyMilk\", \"exp_date\": \"09/10/2022\", \"type\": \"Chocolate\", \"cost\": 30, \"Qty\": 520}, \"18\": {\"product\": \"5Star\", \"exp_date\": \"05/09/2022\", \"type\": \"Chocolate\", \"cost\": 20, \"Qty\": 50}, \"19\": {\"product\": \"Park\", \"exp_date\": \"07/09/2022\", \"type\": \"Chocolate\", \"cost\": 30, \"Qty\": 550}, \"20\": {\"product\": \"Munch\", \"exp_date\": \"08/09/2022\", \"type\": \"Chocolate\", \"cost\": 20, \"Qty\": 370}, \"21\": {\"product\": \"Nike\", \"exp_date\": \"07/12/2034\", \"type\": \"Shoes\", \"cost\": 11000, \"Qty\": 35}, \"22\": {\"product\": \"Adidas\", \"exp_date\": \"07/12/2034\", \"type\": \"Shoes\", \"cost\": 12000, \"Qty\": 31}, \"23\": {\"product\": \"Reebok\", \"exp_date\": \"07/12/2034\", \"type\": \"Shoes\", \"cost\": 16000, \"Qty\": 340}, \"24\": {\"product\": \"CR7\", \"exp_date\": \"07/12/2034\", \"type\": \"Shoes\", \"cost\": 31000, \"Qty\": 34}, \"25\": {\"product\": \"HRX\", \"exp_date\": \"07/12/2034\", \"type\": \"Shoes\", \"cost\": 14000, \"Qty\": 32}, \"26\": {\"product\": \"Asics\", \"exp_date\": \"07/12/2034\", \"type\": \"Shoes\", \"cost\": 41000, \"Qty\": 40}, \"27\": {\"product\": \"Pablo\", \"exp_date\": \"07/12/2034\", \"type\": \"Shoes\", \"cost\": 33000, \"Qty\": 140}, \"28\": {\"product\": \"Iphone\", \"exp_date\": \"09/11/2040\", \"type\": \"smartphones\", \"cost\": 90000, \"Qty\": 12}, \"29\": {\"product\": \"Samsung\", \"exp_date\": \"09/11/2040\", \"type\": \"smartphones\", \"cost\": 65000, \"Qty\": 20}, \"30\": {\"product\": \"Vivo\", \"exp_date\": \"09/11/2040\", \"type\": \"smartphones\", \"cost\": 44000, \"Qty\": 300}, \"31\": {\"product\": \"frealme\", \"exp_date\": \"09/12/2040\", \"type\": \"smartphones\", \"cost\": 32000, \"qty\": 230}, \"32\": {\"product\": \"hp\", \"exp_date\": \"12/06/2040\", \"type\": \"laptops\", \"cost\": 77000, \"qty\": 100}}'"
            ]
          },
          "metadata": {},
          "execution_count": 23
        }
      ]
    },
    {
      "cell_type": "code",
      "metadata": {
        "id": "wMEQywLKmaT-"
      },
      "source": [
        "day_count = 0\n",
        "fd = open(\"record.json\",\"w\")\n",
        "fd.write(j_s)\n",
        "fd.close()"
      ],
      "execution_count": 25,
      "outputs": []
    },
    {
      "cell_type": "code",
      "metadata": {
        "id": "S8FCP9RJml3l"
      },
      "source": [
        "fd = open(\"record.json\",\"r\")\n",
        "data = fd.read()\n",
        "fd.close()"
      ],
      "execution_count": 26,
      "outputs": []
    },
    {
      "cell_type": "code",
      "metadata": {
        "colab": {
          "base_uri": "https://localhost:8080/",
          "height": 221
        },
        "id": "K23Lc67tmu-G",
        "outputId": "8e1e12bd-5490-42be-c14c-b934dc722665"
      },
      "source": [
        "data"
      ],
      "execution_count": 27,
      "outputs": [
        {
          "output_type": "execute_result",
          "data": {
            "application/vnd.google.colaboratory.intrinsic+json": {
              "type": "string"
            },
            "text/plain": [
              "'{\"1\": {\"product\": \"apple juice\", \"exp_date\": \"10/08/2021\", \"type\": \"drinks\", \"cost\": 40, \"Qty\": 150}, \"2\": {\"product\": \"frooti\", \"exp_date\": \"14/02/2022\", \"type\": \"drinks\", \"cost\": 60, \"Qty\": 600}, \"3\": {\"product\": \"thumsup\", \"exp_date\": \"22/09/2021\", \"type\": \"drinks\", \"cost\": 80, \"Qty\": 420}, \"4\": {\"product\": \"sprite\", \"exp_date\": \"16/09/2022\", \"type\": \"drink\", \"cost\": 56, \"Qty\": 220}, \"5\": {\"product\": \"Shirt\", \"exp_date\": \"12/12/2025\", \"type\": \"Wears\", \"cost\": 43, \"Qty\": 620}, \"6\": {\"product\": \"Jeans\", \"exp_date\": \"12/04/2026\", \"type\": \"Wears\", \"cost\": 33, \"Qty\": 720}, \"7\": {\"product\": \"Denim Jacket\", \"exp_date\": \"02/04/2026\", \"type\": \"Wears\", \"cost\": 33, \"Qty\": 120}, \"8\": {\"product\": \"FacePack\", \"exp_date\": \"04/04/2022\", \"type\": \"Cosmetics\", \"cost\": 74, \"Qty\": 542}, \"9\": {\"product\": \"FaceWash\", \"exp_date\": \"06/09/2022\", \"type\": \"Cosmetics\", \"cost\": 95, \"Qty\": 325}, \"10\": {\"product\": \"Body lotion\", \"exp_date\": \"02/11/2022\", \"type\": \"Cosmetics\", \"cost\": 54, \"Qty\": 323}, \"11\": {\"product\": \"lipstick\", \"exp_date\": \"09/12/2021\", \"type\": \"Cosmetics\", \"cost\": 43, \"Qty\": 55}, \"12\": {\"product\": \"Face Powder\", \"exp_date\": \"12/09/2021\", \"type\": \"Cosmetics\", \"cost\": 65, \"Qty\": 788}, \"13\": {\"product\": \"Cream\", \"exp_date\": \"12/09/2021\", \"type\": \"Cosmetics\", \"cost\": 54, \"Qty\": 98}, \"14\": {\"product\": \"Shampoo\", \"exp_date\": \"12/09/2021\", \"type\": \"Cosmetics\", \"cost\": 32, \"Qty\": 677}, \"15\": {\"product\": \"Lotion\", \"exp_date\": \"12/09/2021\", \"type\": \"Cosmetics\", \"cost\": 78, \"Qty\": 876}, \"16\": {\"product\": \"Kitkat\", \"exp_date\": \"12/04/2022\", \"type\": \"Chocolate\", \"cost\": 70, \"Qty\": 420}, \"17\": {\"product\": \"DairyMilk\", \"exp_date\": \"09/10/2022\", \"type\": \"Chocolate\", \"cost\": 30, \"Qty\": 520}, \"18\": {\"product\": \"5Star\", \"exp_date\": \"05/09/2022\", \"type\": \"Chocolate\", \"cost\": 20, \"Qty\": 50}, \"19\": {\"product\": \"Park\", \"exp_date\": \"07/09/2022\", \"type\": \"Chocolate\", \"cost\": 30, \"Qty\": 550}, \"20\": {\"product\": \"Munch\", \"exp_date\": \"08/09/2022\", \"type\": \"Chocolate\", \"cost\": 20, \"Qty\": 370}, \"21\": {\"product\": \"Nike\", \"exp_date\": \"07/12/2034\", \"type\": \"Shoes\", \"cost\": 11000, \"Qty\": 35}, \"22\": {\"product\": \"Adidas\", \"exp_date\": \"07/12/2034\", \"type\": \"Shoes\", \"cost\": 12000, \"Qty\": 31}, \"23\": {\"product\": \"Reebok\", \"exp_date\": \"07/12/2034\", \"type\": \"Shoes\", \"cost\": 16000, \"Qty\": 340}, \"24\": {\"product\": \"CR7\", \"exp_date\": \"07/12/2034\", \"type\": \"Shoes\", \"cost\": 31000, \"Qty\": 34}, \"25\": {\"product\": \"HRX\", \"exp_date\": \"07/12/2034\", \"type\": \"Shoes\", \"cost\": 14000, \"Qty\": 32}, \"26\": {\"product\": \"Asics\", \"exp_date\": \"07/12/2034\", \"type\": \"Shoes\", \"cost\": 41000, \"Qty\": 40}, \"27\": {\"product\": \"Pablo\", \"exp_date\": \"07/12/2034\", \"type\": \"Shoes\", \"cost\": 33000, \"Qty\": 140}, \"28\": {\"product\": \"Iphone\", \"exp_date\": \"09/11/2040\", \"type\": \"smartphones\", \"cost\": 90000, \"Qty\": 12}, \"29\": {\"product\": \"Samsung\", \"exp_date\": \"09/11/2040\", \"type\": \"smartphones\", \"cost\": 65000, \"Qty\": 20}, \"30\": {\"product\": \"Vivo\", \"exp_date\": \"09/11/2040\", \"type\": \"smartphones\", \"cost\": 44000, \"Qty\": 300}, \"31\": {\"product\": \"frealme\", \"exp_date\": \"09/12/2040\", \"type\": \"smartphones\", \"cost\": 32000, \"qty\": 230}, \"32\": {\"product\": \"hp\", \"exp_date\": \"12/06/2040\", \"type\": \"laptops\", \"cost\": 77000, \"qty\": 100}}'"
            ]
          },
          "metadata": {},
          "execution_count": 27
        }
      ]
    },
    {
      "cell_type": "code",
      "metadata": {
        "id": "xnxTgYVdm5i1"
      },
      "source": [
        "dict = json.loads(data)"
      ],
      "execution_count": 30,
      "outputs": []
    },
    {
      "cell_type": "code",
      "metadata": {
        "colab": {
          "base_uri": "https://localhost:8080/"
        },
        "id": "C-vpkr7bnzft",
        "outputId": "a7e12c61-bc1d-4ed7-90e6-09e8b9f445aa"
      },
      "source": [
        "dict"
      ],
      "execution_count": 31,
      "outputs": [
        {
          "output_type": "execute_result",
          "data": {
            "text/plain": [
              "{'1': {'Qty': 150,\n",
              "  'cost': 40,\n",
              "  'exp_date': '10/08/2021',\n",
              "  'product': 'apple juice',\n",
              "  'type': 'drinks'},\n",
              " '10': {'Qty': 323,\n",
              "  'cost': 54,\n",
              "  'exp_date': '02/11/2022',\n",
              "  'product': 'Body lotion',\n",
              "  'type': 'Cosmetics'},\n",
              " '11': {'Qty': 55,\n",
              "  'cost': 43,\n",
              "  'exp_date': '09/12/2021',\n",
              "  'product': 'lipstick',\n",
              "  'type': 'Cosmetics'},\n",
              " '12': {'Qty': 788,\n",
              "  'cost': 65,\n",
              "  'exp_date': '12/09/2021',\n",
              "  'product': 'Face Powder',\n",
              "  'type': 'Cosmetics'},\n",
              " '13': {'Qty': 98,\n",
              "  'cost': 54,\n",
              "  'exp_date': '12/09/2021',\n",
              "  'product': 'Cream',\n",
              "  'type': 'Cosmetics'},\n",
              " '14': {'Qty': 677,\n",
              "  'cost': 32,\n",
              "  'exp_date': '12/09/2021',\n",
              "  'product': 'Shampoo',\n",
              "  'type': 'Cosmetics'},\n",
              " '15': {'Qty': 876,\n",
              "  'cost': 78,\n",
              "  'exp_date': '12/09/2021',\n",
              "  'product': 'Lotion',\n",
              "  'type': 'Cosmetics'},\n",
              " '16': {'Qty': 420,\n",
              "  'cost': 70,\n",
              "  'exp_date': '12/04/2022',\n",
              "  'product': 'Kitkat',\n",
              "  'type': 'Chocolate'},\n",
              " '17': {'Qty': 520,\n",
              "  'cost': 30,\n",
              "  'exp_date': '09/10/2022',\n",
              "  'product': 'DairyMilk',\n",
              "  'type': 'Chocolate'},\n",
              " '18': {'Qty': 50,\n",
              "  'cost': 20,\n",
              "  'exp_date': '05/09/2022',\n",
              "  'product': '5Star',\n",
              "  'type': 'Chocolate'},\n",
              " '19': {'Qty': 550,\n",
              "  'cost': 30,\n",
              "  'exp_date': '07/09/2022',\n",
              "  'product': 'Park',\n",
              "  'type': 'Chocolate'},\n",
              " '2': {'Qty': 600,\n",
              "  'cost': 60,\n",
              "  'exp_date': '14/02/2022',\n",
              "  'product': 'frooti',\n",
              "  'type': 'drinks'},\n",
              " '20': {'Qty': 370,\n",
              "  'cost': 20,\n",
              "  'exp_date': '08/09/2022',\n",
              "  'product': 'Munch',\n",
              "  'type': 'Chocolate'},\n",
              " '21': {'Qty': 35,\n",
              "  'cost': 11000,\n",
              "  'exp_date': '07/12/2034',\n",
              "  'product': 'Nike',\n",
              "  'type': 'Shoes'},\n",
              " '22': {'Qty': 31,\n",
              "  'cost': 12000,\n",
              "  'exp_date': '07/12/2034',\n",
              "  'product': 'Adidas',\n",
              "  'type': 'Shoes'},\n",
              " '23': {'Qty': 340,\n",
              "  'cost': 16000,\n",
              "  'exp_date': '07/12/2034',\n",
              "  'product': 'Reebok',\n",
              "  'type': 'Shoes'},\n",
              " '24': {'Qty': 34,\n",
              "  'cost': 31000,\n",
              "  'exp_date': '07/12/2034',\n",
              "  'product': 'CR7',\n",
              "  'type': 'Shoes'},\n",
              " '25': {'Qty': 32,\n",
              "  'cost': 14000,\n",
              "  'exp_date': '07/12/2034',\n",
              "  'product': 'HRX',\n",
              "  'type': 'Shoes'},\n",
              " '26': {'Qty': 40,\n",
              "  'cost': 41000,\n",
              "  'exp_date': '07/12/2034',\n",
              "  'product': 'Asics',\n",
              "  'type': 'Shoes'},\n",
              " '27': {'Qty': 140,\n",
              "  'cost': 33000,\n",
              "  'exp_date': '07/12/2034',\n",
              "  'product': 'Pablo',\n",
              "  'type': 'Shoes'},\n",
              " '28': {'Qty': 12,\n",
              "  'cost': 90000,\n",
              "  'exp_date': '09/11/2040',\n",
              "  'product': 'Iphone',\n",
              "  'type': 'smartphones'},\n",
              " '29': {'Qty': 20,\n",
              "  'cost': 65000,\n",
              "  'exp_date': '09/11/2040',\n",
              "  'product': 'Samsung',\n",
              "  'type': 'smartphones'},\n",
              " '3': {'Qty': 420,\n",
              "  'cost': 80,\n",
              "  'exp_date': '22/09/2021',\n",
              "  'product': 'thumsup',\n",
              "  'type': 'drinks'},\n",
              " '30': {'Qty': 300,\n",
              "  'cost': 44000,\n",
              "  'exp_date': '09/11/2040',\n",
              "  'product': 'Vivo',\n",
              "  'type': 'smartphones'},\n",
              " '31': {'cost': 32000,\n",
              "  'exp_date': '09/12/2040',\n",
              "  'product': 'frealme',\n",
              "  'qty': 230,\n",
              "  'type': 'smartphones'},\n",
              " '32': {'cost': 77000,\n",
              "  'exp_date': '12/06/2040',\n",
              "  'product': 'hp',\n",
              "  'qty': 100,\n",
              "  'type': 'laptops'},\n",
              " '4': {'Qty': 220,\n",
              "  'cost': 56,\n",
              "  'exp_date': '16/09/2022',\n",
              "  'product': 'sprite',\n",
              "  'type': 'drink'},\n",
              " '5': {'Qty': 620,\n",
              "  'cost': 43,\n",
              "  'exp_date': '12/12/2025',\n",
              "  'product': 'Shirt',\n",
              "  'type': 'Wears'},\n",
              " '6': {'Qty': 720,\n",
              "  'cost': 33,\n",
              "  'exp_date': '12/04/2026',\n",
              "  'product': 'Jeans',\n",
              "  'type': 'Wears'},\n",
              " '7': {'Qty': 120,\n",
              "  'cost': 33,\n",
              "  'exp_date': '02/04/2026',\n",
              "  'product': 'Denim Jacket',\n",
              "  'type': 'Wears'},\n",
              " '8': {'Qty': 542,\n",
              "  'cost': 74,\n",
              "  'exp_date': '04/04/2022',\n",
              "  'product': 'FacePack',\n",
              "  'type': 'Cosmetics'},\n",
              " '9': {'Qty': 325,\n",
              "  'cost': 95,\n",
              "  'exp_date': '06/09/2022',\n",
              "  'product': 'FaceWash',\n",
              "  'type': 'Cosmetics'}}"
            ]
          },
          "metadata": {},
          "execution_count": 31
        }
      ]
    },
    {
      "cell_type": "code",
      "metadata": {
        "colab": {
          "base_uri": "https://localhost:8080/"
        },
        "id": "Z9HMI1Ohn1pd",
        "outputId": "3bdc2800-f2f4-4595-d0c2-9fc7f4ea4da8"
      },
      "source": [
        "f = open(\"sales.json\",\"a\")\n",
        "will_buy = True\n",
        "print(\"Happy Shopping\")\n",
        "while will_buy:\n",
        "  n = int(input(\"Dear Customer, Please Enter Unique Id of the product that you want to buy: \"))\n",
        "  q = int(input(\"Dear Customer, Enter the quantity of the product: \"))\n",
        "  day_count += q\n",
        "  f.write(str(record[n])+\"\\nTotal Price = \"+str(record[n][\"cost\"]*q))\n",
        "  print(\"Dear Customer, Press 1 to continue else press any key to quit\")\n",
        "  n = input(\"Dear Customer, Enter your option: \")\n",
        "  will_buy = True if n == '1'  else False\n",
        "\n",
        "f.write(\"\\nProducts saled upto now = \"+str(day_count)+\"\\n\")\n",
        "f.close()"
      ],
      "execution_count": 32,
      "outputs": [
        {
          "name": "stdout",
          "output_type": "stream",
          "text": [
            "Happy Shopping\n",
            "Dear Customer, Please Enter Unique Id of the product that you want to buy: 1\n",
            "Dear Customer, Enter the quantity of the product: 100\n",
            "Dear Customer, Press 1 to continue else press any key to quit\n",
            "Dear Customer, Enter your option: q\n"
          ]
        }
      ]
    },
    {
      "cell_type": "code",
      "metadata": {
        "id": "qx5yHwdvo8O2"
      },
      "source": [
        "import json\n",
        "\n",
        "fd = open(\"record.json\",'r')\n",
        "r = fd.read()\n",
        "fd.close()\n",
        "\n",
        "records = json.loads(r)"
      ],
      "execution_count": 37,
      "outputs": []
    },
    {
      "cell_type": "code",
      "metadata": {
        "colab": {
          "base_uri": "https://localhost:8080/"
        },
        "id": "PqxXOBvBpxsq",
        "outputId": "c1cc1934-789e-472c-be57-3cc264594d4c"
      },
      "source": [
        "records"
      ],
      "execution_count": 38,
      "outputs": [
        {
          "output_type": "execute_result",
          "data": {
            "text/plain": [
              "{'1': {'Qty': 150,\n",
              "  'cost': 40,\n",
              "  'exp_date': '10/08/2021',\n",
              "  'product': 'apple juice',\n",
              "  'type': 'drinks'},\n",
              " '10': {'Qty': 323,\n",
              "  'cost': 54,\n",
              "  'exp_date': '02/11/2022',\n",
              "  'product': 'Body lotion',\n",
              "  'type': 'Cosmetics'},\n",
              " '11': {'Qty': 55,\n",
              "  'cost': 43,\n",
              "  'exp_date': '09/12/2021',\n",
              "  'product': 'lipstick',\n",
              "  'type': 'Cosmetics'},\n",
              " '12': {'Qty': 788,\n",
              "  'cost': 65,\n",
              "  'exp_date': '12/09/2021',\n",
              "  'product': 'Face Powder',\n",
              "  'type': 'Cosmetics'},\n",
              " '13': {'Qty': 98,\n",
              "  'cost': 54,\n",
              "  'exp_date': '12/09/2021',\n",
              "  'product': 'Cream',\n",
              "  'type': 'Cosmetics'},\n",
              " '14': {'Qty': 677,\n",
              "  'cost': 32,\n",
              "  'exp_date': '12/09/2021',\n",
              "  'product': 'Shampoo',\n",
              "  'type': 'Cosmetics'},\n",
              " '15': {'Qty': 876,\n",
              "  'cost': 78,\n",
              "  'exp_date': '12/09/2021',\n",
              "  'product': 'Lotion',\n",
              "  'type': 'Cosmetics'},\n",
              " '16': {'Qty': 420,\n",
              "  'cost': 70,\n",
              "  'exp_date': '12/04/2022',\n",
              "  'product': 'Kitkat',\n",
              "  'type': 'Chocolate'},\n",
              " '17': {'Qty': 520,\n",
              "  'cost': 30,\n",
              "  'exp_date': '09/10/2022',\n",
              "  'product': 'DairyMilk',\n",
              "  'type': 'Chocolate'},\n",
              " '18': {'Qty': 50,\n",
              "  'cost': 20,\n",
              "  'exp_date': '05/09/2022',\n",
              "  'product': '5Star',\n",
              "  'type': 'Chocolate'},\n",
              " '19': {'Qty': 550,\n",
              "  'cost': 30,\n",
              "  'exp_date': '07/09/2022',\n",
              "  'product': 'Park',\n",
              "  'type': 'Chocolate'},\n",
              " '2': {'Qty': 600,\n",
              "  'cost': 60,\n",
              "  'exp_date': '14/02/2022',\n",
              "  'product': 'frooti',\n",
              "  'type': 'drinks'},\n",
              " '20': {'Qty': 370,\n",
              "  'cost': 20,\n",
              "  'exp_date': '08/09/2022',\n",
              "  'product': 'Munch',\n",
              "  'type': 'Chocolate'},\n",
              " '21': {'Qty': 35,\n",
              "  'cost': 11000,\n",
              "  'exp_date': '07/12/2034',\n",
              "  'product': 'Nike',\n",
              "  'type': 'Shoes'},\n",
              " '22': {'Qty': 31,\n",
              "  'cost': 12000,\n",
              "  'exp_date': '07/12/2034',\n",
              "  'product': 'Adidas',\n",
              "  'type': 'Shoes'},\n",
              " '23': {'Qty': 340,\n",
              "  'cost': 16000,\n",
              "  'exp_date': '07/12/2034',\n",
              "  'product': 'Reebok',\n",
              "  'type': 'Shoes'},\n",
              " '24': {'Qty': 34,\n",
              "  'cost': 31000,\n",
              "  'exp_date': '07/12/2034',\n",
              "  'product': 'CR7',\n",
              "  'type': 'Shoes'},\n",
              " '25': {'Qty': 32,\n",
              "  'cost': 14000,\n",
              "  'exp_date': '07/12/2034',\n",
              "  'product': 'HRX',\n",
              "  'type': 'Shoes'},\n",
              " '26': {'Qty': 40,\n",
              "  'cost': 41000,\n",
              "  'exp_date': '07/12/2034',\n",
              "  'product': 'Asics',\n",
              "  'type': 'Shoes'},\n",
              " '27': {'Qty': 140,\n",
              "  'cost': 33000,\n",
              "  'exp_date': '07/12/2034',\n",
              "  'product': 'Pablo',\n",
              "  'type': 'Shoes'},\n",
              " '28': {'Qty': 12,\n",
              "  'cost': 90000,\n",
              "  'exp_date': '09/11/2040',\n",
              "  'product': 'Iphone',\n",
              "  'type': 'smartphones'},\n",
              " '29': {'Qty': 20,\n",
              "  'cost': 65000,\n",
              "  'exp_date': '09/11/2040',\n",
              "  'product': 'Samsung',\n",
              "  'type': 'smartphones'},\n",
              " '3': {'Qty': 420,\n",
              "  'cost': 80,\n",
              "  'exp_date': '22/09/2021',\n",
              "  'product': 'thumsup',\n",
              "  'type': 'drinks'},\n",
              " '30': {'Qty': 300,\n",
              "  'cost': 44000,\n",
              "  'exp_date': '09/11/2040',\n",
              "  'product': 'Vivo',\n",
              "  'type': 'smartphones'},\n",
              " '31': {'cost': 32000,\n",
              "  'exp_date': '09/12/2040',\n",
              "  'product': 'frealme',\n",
              "  'qty': 230,\n",
              "  'type': 'smartphones'},\n",
              " '32': {'cost': 77000,\n",
              "  'exp_date': '12/06/2040',\n",
              "  'product': 'hp',\n",
              "  'qty': 100,\n",
              "  'type': 'laptops'},\n",
              " '4': {'Qty': 220,\n",
              "  'cost': 56,\n",
              "  'exp_date': '16/09/2022',\n",
              "  'product': 'sprite',\n",
              "  'type': 'drink'},\n",
              " '5': {'Qty': 620,\n",
              "  'cost': 43,\n",
              "  'exp_date': '12/12/2025',\n",
              "  'product': 'Shirt',\n",
              "  'type': 'Wears'},\n",
              " '6': {'Qty': 720,\n",
              "  'cost': 33,\n",
              "  'exp_date': '12/04/2026',\n",
              "  'product': 'Jeans',\n",
              "  'type': 'Wears'},\n",
              " '7': {'Qty': 120,\n",
              "  'cost': 33,\n",
              "  'exp_date': '02/04/2026',\n",
              "  'product': 'Denim Jacket',\n",
              "  'type': 'Wears'},\n",
              " '8': {'Qty': 542,\n",
              "  'cost': 74,\n",
              "  'exp_date': '04/04/2022',\n",
              "  'product': 'FacePack',\n",
              "  'type': 'Cosmetics'},\n",
              " '9': {'Qty': 325,\n",
              "  'cost': 95,\n",
              "  'exp_date': '06/09/2022',\n",
              "  'product': 'FaceWash',\n",
              "  'type': 'Cosmetics'}}"
            ]
          },
          "metadata": {},
          "execution_count": 38
        }
      ]
    },
    {
      "cell_type": "code",
      "metadata": {
        "colab": {
          "base_uri": "https://localhost:8080/"
        },
        "id": "GcTXdZqjp1JT",
        "outputId": "49c0ef7c-a6db-43f6-e90e-6d07ce2ff0e1"
      },
      "source": [
        "f = open(\"sales.json\",\"a\")\n",
        "ui_prod  = int(input(\"Enter the product_Id: \"))\n",
        "ui_quant = int(input(\"Enter the quantity: \"))\n",
        "\n",
        "\n",
        "print(\"Product: \", record[ui_prod]['product'])\n",
        "print(\"Price: \", record[ui_prod]['cost'])\n",
        "print(\"Billing Amount: \", record[ui_prod]['cost'] * ui_quant)\n",
        "\n",
        "record[ui_prod]['Qty'] = record[ui_prod]['Qty'] - ui_quant"
      ],
      "execution_count": 60,
      "outputs": [
        {
          "output_type": "stream",
          "name": "stdout",
          "text": [
            "Enter the product_Id: 21\n",
            "Enter the quantity: 60\n",
            "Product:  Nike\n",
            "Price:  11000\n",
            "Billing Amount:  660000\n"
          ]
        }
      ]
    },
    {
      "cell_type": "code",
      "metadata": {
        "id": "nBHnCoH7qyPA"
      },
      "source": [
        "js = json.dumps(record)\n",
        "\n",
        "\n",
        "fd = open(\"record.json\",'w')\n",
        "fd.write(js)\n",
        "fd.close()"
      ],
      "execution_count": 65,
      "outputs": []
    },
    {
      "cell_type": "code",
      "metadata": {
        "colab": {
          "base_uri": "https://localhost:8080/"
        },
        "id": "F8PrifCDonOB",
        "outputId": "f50c529b-f136-45f8-c5c7-c180ad588617"
      },
      "source": [
        "{'prod' : ui_prod, 'qn' : ui_quant, 'amount': record[ui_prod]['cost'] * ui_quant}"
      ],
      "execution_count": 57,
      "outputs": [
        {
          "output_type": "execute_result",
          "data": {
            "text/plain": [
              "{'amount': 3696, 'prod': 4, 'qn': 66}"
            ]
          },
          "metadata": {},
          "execution_count": 57
        }
      ]
    },
    {
      "cell_type": "code",
      "metadata": {
        "id": "eT7g5W4dumUE"
      },
      "source": [
        "sales = {1 : {'prod' : ui_prod, 'qn' : ui_quant, 'amount': record[ui_prod]['cost'] * ui_quant},\n",
        "         2 : {'prod' : ui_prod, 'qn' : ui_quant, 'amount': record[ui_prod]['cost'] * ui_quant},\n",
        "         3 : {'prod' : ui_prod, 'qn' : ui_quant, 'amount': record[ui_prod]['cost'] * ui_quant}}"
      ],
      "execution_count": 63,
      "outputs": []
    },
    {
      "cell_type": "code",
      "metadata": {
        "id": "2spVVikCwmUp"
      },
      "source": [
        "sale = json.dumps(sales)"
      ],
      "execution_count": 64,
      "outputs": []
    },
    {
      "cell_type": "code",
      "metadata": {
        "id": "EEu01FLawv6i"
      },
      "source": [
        "\n",
        "fd = open(\"sale.json\",'w')\n",
        "fd.write(sale)\n",
        "fd.close()"
      ],
      "execution_count": 66,
      "outputs": []
    }
  ]
}